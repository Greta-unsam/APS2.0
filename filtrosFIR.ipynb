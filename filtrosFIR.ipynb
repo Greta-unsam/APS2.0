{
 "cells": [
  {
   "cell_type": "markdown",
   "id": "551eb8dc",
   "metadata": {},
   "source": [
    "Síntesis de filtros fir"
   ]
  },
  {
   "cell_type": "code",
   "execution_count": 1,
   "id": "b69a4c32",
   "metadata": {},
   "outputs": [],
   "source": [
    "from pytc2.sistemas_lineales import plot_plantilla\n",
    "import sympy as sp\n",
    "import numpy as np\n",
    "import scipy.signal as sig\n",
    "import matplotlib.pyplot as plt\n",
    "import scipy.io as sio\n",
    "from scipy.signal import firwin2, freqz\n",
    "\n",
    "\n",
    "\n",
    "def vertical_flaten(a):\n",
    "\n",
    "    return a.reshape(a.shape[0],1)"
   ]
  },
  {
   "cell_type": "code",
   "execution_count": 2,
   "id": "2b9be67f",
   "metadata": {},
   "outputs": [],
   "source": [
    "%matplotlib qt\n",
    "\n",
    "fs = 1000\n",
    "cant_coef = 3501\n",
    "\n",
    "fstop1 = 0.1\n",
    "fpass1 = 1\n",
    "fpass2 = 35\n",
    "fstop2 = 50\n",
    "\n",
    "# Plantilla de frecuencias y ganancias (en Hz)\n",
    "frecs = [0, fstop1, fpass1, fpass2, fstop2, fs/2]\n",
    "gains_db = [-40, -40, -1, -1, -40, -40]  # dB: 0 dB en la banda de paso\n",
    "gains = 10**(np.array(gains_db)/20)      # lineal\n",
    "\n",
    "num_ka = sig.firwin2(\n",
    "    cant_coef,\n",
    "    frecs,\n",
    "    gains,\n",
    "    window='hamming',\n",
    "    fs=fs\n",
    ")\n",
    "\n",
    "w, h = sig.freqz(num_ka, worN=1000, fs=fs)\n",
    "plt.figure(figsize=(10, 4))\n",
    "plt.plot(w, 20 * np.log10(np.abs(h) + 1e-10))\n",
    "plt.title('Respuesta en Frecuencia del Filtro FIR Pasa Banda')\n",
    "plt.xlabel('Frecuencia [Hz]')\n",
    "plt.ylabel('Magnitud [dB]')\n",
    "plt.grid()\n",
    "plt.show()\n",
    "\n",
    "\n",
    "#ploteo la fase\n",
    "plt.figure(figsize=(10, 4))\n",
    "plt.plot(w, np.angle(h))\n",
    "plt.title('Respuesta en Fase del Filtro FIR Pasa Banda')\n",
    "plt.xlabel('Frecuencia [Hz]')\n",
    "plt.ylabel('Fase [radianes]')\n",
    "plt.grid()\n",
    "plt.show()\n",
    "\n"
   ]
  }
 ],
 "metadata": {
  "kernelspec": {
   "display_name": "Python 3",
   "language": "python",
   "name": "python3"
  },
  "language_info": {
   "codemirror_mode": {
    "name": "ipython",
    "version": 3
   },
   "file_extension": ".py",
   "mimetype": "text/x-python",
   "name": "python",
   "nbconvert_exporter": "python",
   "pygments_lexer": "ipython3",
   "version": "3.13.0"
  }
 },
 "nbformat": 4,
 "nbformat_minor": 5
}
